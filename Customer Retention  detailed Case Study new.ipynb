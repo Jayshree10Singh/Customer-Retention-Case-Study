{
 "cells": [
  {
   "cell_type": "markdown",
   "id": "74bc092d",
   "metadata": {},
   "source": [
    "## Customer Retention Case Study with detailed data analysis"
   ]
  },
  {
   "cell_type": "code",
   "execution_count": null,
   "id": "372dddde",
   "metadata": {},
   "outputs": [],
   "source": [
    "pip install -U pandas-profiling"
   ]
  },
  {
   "cell_type": "code",
   "execution_count": null,
   "id": "30e5dad7",
   "metadata": {},
   "outputs": [],
   "source": [
    "# Importing all the necessary libraries/dependencies here.\n",
    "\n",
    "import pandas as pd\n",
    "import numpy as np\n",
    "import seaborn as sns\n",
    "import matplotlib.pyplot as plt\n",
    "%matplotlib inline\n",
    "from sklearn.preprocessing import OrdinalEncoder\n",
    "\n",
    "import warnings\n",
    "warnings.simplefilter(\"ignore\")\n",
    "warnings.filterwarnings(\"ignore\") \n",
    "import pandas_profiling\n",
    "import missingno"
   ]
  },
  {
   "cell_type": "code",
   "execution_count": null,
   "id": "a053b7dc",
   "metadata": {},
   "outputs": [],
   "source": [
    "# in the above cell I have stored the excel file and then separated the spreadsheets in 2 different dataframes.\n",
    "        \n",
    "xls = pd.ExcelFile('customer_retention_dataset.xlsx')\n",
    "df1 = pd.read_excel(xls, 'datasheet') # sheet 1\n",
    "df2 = pd.read_excel(xls, 'codedsheet') # sheet 2"
   ]
  },
  {
   "cell_type": "code",
   "execution_count": null,
   "id": "0a5cbdc6",
   "metadata": {},
   "outputs": [],
   "source": [
    "df1"
   ]
  },
  {
   "cell_type": "markdown",
   "id": "23103cae",
   "metadata": {},
   "source": [
    "We can observe that the spreadsheet named \"datasheet\" consists of 269 rows and 71 columns in it."
   ]
  },
  {
   "cell_type": "code",
   "execution_count": null,
   "id": "1f0109d7",
   "metadata": {},
   "outputs": [],
   "source": [
    "df2"
   ]
  },
  {
   "cell_type": "markdown",
   "id": "cd432578",
   "metadata": {},
   "source": [
    "We can see that the spreadsheet named \"codedsheet\" consists of 269 rows and 71 columns as well however there are columns which are in categorical coded format."
   ]
  },
  {
   "cell_type": "markdown",
   "id": "190bcd9f",
   "metadata": {},
   "source": [
    "## Exploratory Data Analysis (EDA)"
   ]
  },
  {
   "cell_type": "code",
   "execution_count": null,
   "id": "da43389a",
   "metadata": {},
   "outputs": [],
   "source": [
    "# Ensuring that in future observations we do not have any truncated information being displayed in our Jupter Notebook.\n",
    "\n",
    "pd.set_option('display.max_columns', None) # show all columns in a dataframe\n",
    "pd.set_option('display.max_rows', None) # show all rows in a dataframe"
   ]
  },
  {
   "cell_type": "code",
   "execution_count": null,
   "id": "b873ce47",
   "metadata": {},
   "outputs": [],
   "source": [
    "df1.columns"
   ]
  },
  {
   "cell_type": "markdown",
   "id": "3bd04e5e",
   "metadata": {},
   "source": [
    "*Using columns we can see all the 71 column names from the datasheet page*"
   ]
  },
  {
   "cell_type": "code",
   "execution_count": null,
   "id": "9f4eae4c",
   "metadata": {},
   "outputs": [],
   "source": [
    "df1.rename(columns = {'1Gender of respondent':'Gender', \n",
    "       '2 How old are you? ':'Age',\n",
    "       '3 Which city do you shop online from?':'City',\n",
    "       '4 What is the Pin Code of where you shop online from?':'Pin Code',\n",
    "       '5 Since How Long You are Shopping Online ?':'Online Shopping Duration',\n",
    "       '6 How many times you have made an online purchase in the past 1 year?':'Online purchase in past 1 year',\n",
    "       '7 How do you access the internet while shopping on-line?':'Mode of internet access',\n",
    "       '8 Which device do you use to access the online shopping?':'Device used for internet access',\n",
    "       '9 What is the screen size of your mobile device?\\t\\t\\t\\t\\t\\t                                        ':'Screen size of mobile',\n",
    "       '10 What is the operating system (OS) of your device?\\t\\t\\t\\t                                          ':'Operating System',\n",
    "       '11 What browser do you run on your device to access the website?\\t\\t\\t                                                          ':'Browser',\n",
    "       '12 Which channel did you follow to arrive at your favorite online store for the first time?                                                                   ':'Channel used for 1st visit',\n",
    "       '13 After first visit, how do you reach the online retail store?\\t\\t\\t\\t                                                   ':'Online store access post 1st visit',\n",
    "       '14 How much time do you explore the e- retail store before making a purchase decision?                                                                   ':'Time invested to explore and purchase',\n",
    "       '15 What is your preferred payment Option?\\t\\t\\t\\t\\t                                                                                                                               ':'Preferred payment option',\n",
    "       '16 How frequently do you abandon (selecting an items and leaving without making payment) your shopping cart?\\t\\t\\t\\t\\t\\t\\t                                                   ':'Frequency to abandon purchase from a cart',\n",
    "       '17 Why did you abandon the “Bag”, “Shopping Cart”?\\t\\t\\t\\t\\t                                                                                                                                                       ':'Reason to abandon purchase from a cart',\n",
    "       '18 The content on the website must be easy to read and understand':'Shopping website content readability',\n",
    "       '19 Information on similar product to the one highlighted  is important for product comparison':'Importance of product comparison content',\n",
    "       '20 Complete information on listed seller and product being offered is important for purchase decision.':'Importance of seller and product detail for purchase decision',\n",
    "       '21 All relevant information on listed products must be stated clearly':'Clarity on relevant information for products',\n",
    "       '22 Ease of navigation in website':'Ease of navigation on website', \n",
    "       '23 Loading and processing speed':'Loading and processing speed of website',\n",
    "       '24 User friendly Interface of the website':'Ease of access on GUI of website',\n",
    "       '25 Convenient Payment methods':'Convenient/Most used payment methods',\n",
    "       '26 Trust that the online retail store will fulfill its part of the transaction at the stipulated time':'On time product delivery',\n",
    "       '27 Empathy (readiness to assist with queries) towards the customers':'Empathy towards the customer',\n",
    "       '28 Being able to guarantee the privacy of the customer':'Privacy guarantee of the customer',\n",
    "       '29 Responsiveness, availability of several communication channels (email, online rep, twitter, phone etc.)':'Support availability via various means',\n",
    "       '30 Online shopping gives monetary benefit and discounts':'Offers and Discounts on online shopping',\n",
    "       '31 Enjoyment is derived from shopping online':'Enjoyment quotient in online shopping',\n",
    "       '32 Shopping online is convenient and flexible':'Flexibity in online shopping',\n",
    "       '33 Return and replacement policy of the e-tailer is important for purchase decision':'Return and Replacement policy',\n",
    "       '34 Gaining access to loyalty programs is a benefit of shopping online':'Loyalty program benefits',\n",
    "       '35 Displaying quality Information on the website improves satisfaction of customers':'Quality of website content',\n",
    "       '36 User derive satisfaction while shopping on a good quality website or application':'User satisfaction',\n",
    "       '37 Net Benefit derived from shopping online can lead to users satisfaction':'Net benefit',\n",
    "       '38 User satisfaction cannot exist without trust':'User satisfaction with trust factor',\n",
    "       '39 Offering a wide variety of listed product in several category':'Wide range of products',\n",
    "       '40 Provision of complete and relevant product information':'Relevance in product details',\n",
    "       '41 Monetary savings':'Monetary savings',\n",
    "       '42 The Convenience of patronizing the online retailer':'Frequency of purchase from a seller',\n",
    "       '43 Shopping on the website gives you the sense of adventure':'Sense of adventure',\n",
    "       '44 Shopping on your preferred e-tailer enhances your social status':'Social status',\n",
    "       '45 You feel gratification shopping on your favorite e-tailer':'Pleasure in shopping from a seller',\n",
    "       '46 Shopping on the website helps you fulfill certain roles':'Fulfill roles from shopping',\n",
    "       '47 Getting value for money spent':'Value for money',\n",
    "       'From the following, tick any (or all) of the online retailers you have shopped from;                                                                           ':'List of online shopping websites',\n",
    "       'Easy to use website or application':'Ease of access on an online website',\n",
    "       'Visual appealing web-page layout':'Website layout', \n",
    "       'Wild variety of product on offer':'Variety of products on offer',\n",
    "       'Complete, relevant description information of products':'Completeness of product description',\n",
    "       'Fast loading website speed of website and application':'Website access speed',\n",
    "       'Reliability of the website or application':'Reliability of website',\n",
    "       'Quickness to complete purchase':'Ease to complete purchase',\n",
    "       'Availability of several payment options':'Payment option availability', \n",
    "       'Speedy order delivery ':'Fast delivery',\n",
    "       'Privacy of customers’ information':'Customer privacy',\n",
    "       'Security of customer financial information':'Security on payment details',\n",
    "       'Perceived Trustworthiness':'Trust worthiness',\n",
    "       'Presence of online assistance through multi-channel':'Online presence of support team',\n",
    "       'Longer time to get logged in (promotion, sales period)':'Time to login website on special offer days',\n",
    "       'Longer time in displaying graphics and photos (promotion, sales period)':'Time to load media on special offer days',\n",
    "       'Late declaration of price (promotion, sales period)':'Delay in declaring special offer details',\n",
    "       'Longer page loading time (promotion, sales period)':'Time to load website on special offer days',\n",
    "       'Limited mode of payment on most products (promotion, sales period)':'Limited mode of payment on special offer days',\n",
    "       'Longer delivery period':'Delayed product delivery', \n",
    "       'Change in website/Application design':'Change in GUI',\n",
    "       'Frequent disruption when moving from one page to another':'Issue accessing multiple pages of a website',\n",
    "       'Website is as efficient as before':'Efficiency of website at all times',\n",
    "       'Which of the Indian online retailer would you recommend to a friend?':'Recommendation quotient'},\n",
    "           inplace = True)"
   ]
  },
  {
   "cell_type": "markdown",
   "id": "086e536d",
   "metadata": {},
   "source": [
    "Using columns we can see all the 71 column names from the datasheet page\n",
    "\n",
    "With the help of rename I was able to change the names of columns that were too lengthy and could have been accomodated in shorter formats. I wanted to drop the ill formated column names and replace them with meaningful names that I can understand further"
   ]
  },
  {
   "cell_type": "code",
   "execution_count": null,
   "id": "48e93e45",
   "metadata": {},
   "outputs": [],
   "source": [
    "print(\"We have {} Rows and {} Columns in our dataframe\".format(df1.shape[0], df1.shape[1]))\n",
    "df1.head()"
   ]
  },
  {
   "cell_type": "markdown",
   "id": "5bac71b1",
   "metadata": {},
   "source": [
    "*Taking a look at the first 5 rows of our datasheet data frame after renaming the column names*"
   ]
  },
  {
   "cell_type": "code",
   "execution_count": null,
   "id": "b4f2e63b",
   "metadata": {},
   "outputs": [],
   "source": [
    "df1.isna().sum() # checking for missing values"
   ]
  },
  {
   "cell_type": "markdown",
   "id": "9892befc",
   "metadata": {},
   "source": [
    "*Using the isna and sum fuctions together on our dataframe we can take a look at missing data information. It looks like we do not have any missing values present in any of our columns. However we can confirm the same with visual on it.*"
   ]
  },
  {
   "cell_type": "code",
   "execution_count": null,
   "id": "097dae42",
   "metadata": {},
   "outputs": [],
   "source": [
    "missingno.matrix(df1, figsize = (15,5))"
   ]
  },
  {
   "cell_type": "markdown",
   "id": "74fbee9d",
   "metadata": {},
   "source": [
    "*From the above matrix we can see that non of the rows show any sign of missing value and all 71 columns are filled with some or the other data in it.*"
   ]
  },
  {
   "cell_type": "code",
   "execution_count": null,
   "id": "decb51c6",
   "metadata": {},
   "outputs": [],
   "source": [
    "df1.describe(include=\"all\").T"
   ]
  },
  {
   "cell_type": "markdown",
   "id": "35964205",
   "metadata": {},
   "source": [
    "With the help of describe method in transpose format we are able to take a look at our column details clearly. The count column once again confirms that there are no missing data concern in our dataset. Also I have used the include all parameter in the describe method to ensure all the columns are displayed irrespective of it being a numeric or text data column"
   ]
  },
  {
   "cell_type": "code",
   "execution_count": null,
   "id": "6e1ec420",
   "metadata": {},
   "outputs": [],
   "source": [
    "df1.info() # checking the datatype information on columns"
   ]
  },
  {
   "cell_type": "markdown",
   "id": "3dcf3707",
   "metadata": {},
   "source": [
    "*Using the info method on our dataframe we see that there is only 1 integer datatype column while 70 object datatype columns.*"
   ]
  },
  {
   "cell_type": "code",
   "execution_count": null,
   "id": "777a06b3",
   "metadata": {},
   "outputs": [],
   "source": [
    "df1.nunique().to_frame(\"Unique Values\")"
   ]
  },
  {
   "cell_type": "markdown",
   "id": "91fcbadd",
   "metadata": {},
   "source": [
    "*In the above cell nunique gives us a list of total number of unique values present in each column of our dataframe.*"
   ]
  },
  {
   "cell_type": "code",
   "execution_count": null,
   "id": "1ecaee04",
   "metadata": {},
   "outputs": [],
   "source": [
    "object_datatype = []\n",
    "for x in df1.dtypes.index:\n",
    "    if df1.dtypes[x] == 'O':\n",
    "        object_datatype.append(x)\n",
    "object_datatype"
   ]
  },
  {
   "cell_type": "markdown",
   "id": "6c8d3ee3",
   "metadata": {},
   "source": [
    "I have stored the renamed object datatype column names as a list in 1 variable for ease of acess in further analysis. The only column with integer datatype is \"Pin Code\"."
   ]
  },
  {
   "cell_type": "code",
   "execution_count": null,
   "id": "f78e3ba7",
   "metadata": {},
   "outputs": [],
   "source": [
    "for col in object_datatype:\n",
    "    print(col)\n",
    "    print(df1[col].value_counts())\n",
    "    print(\"=\"*120)\n",
    "    \n"
   ]
  },
  {
   "cell_type": "markdown",
   "id": "8cd65a14",
   "metadata": {},
   "source": [
    "*have listed down all the categorical data column values to see clearly what are are unique values and how many rows they cover in our dataframe.*"
   ]
  },
  {
   "cell_type": "markdown",
   "id": "e61a8cd9",
   "metadata": {},
   "source": [
    "## Visualization"
   ]
  },
  {
   "cell_type": "code",
   "execution_count": null,
   "id": "904d8fb6",
   "metadata": {},
   "outputs": [],
   "source": [
    "for col in df1[object_datatype]:\n",
    "    plt.figure(figsize=(10,6))\n",
    "    col_name = col\n",
    "    values = df1[col_name].value_counts()\n",
    "    index = 0\n",
    "    ax = sns.countplot(df1[col_name], palette=\"viridis\")\n",
    "\n",
    "    for i in ax.patches:\n",
    "        h = i.get_height() # getting the count of each value\n",
    "        t = len(df1[col_name]) # getting the total number of records using length\n",
    "        s = f\"{h}\\n({round(h*100/t,2)}%)\" # making the string for displaying in count bar\n",
    "        plt.text(index, h/2, s, ha=\"center\", fontweight=\"bold\")\n",
    "        index += 1\n",
    "    \n",
    "    plt.title(f\"Count Plot for {col_name}\\n\")\n",
    "    plt.xlabel(col_name)\n",
    "    plt.ylabel(f\"Number of rows covered\")\n",
    "    plt.xticks(rotation=90)\n",
    "    plt.show()"
   ]
  },
  {
   "cell_type": "markdown",
   "id": "d71e9b02",
   "metadata": {},
   "source": [
    "### Observations:"
   ]
  },
  {
   "cell_type": "markdown",
   "id": "42d49d76",
   "metadata": {},
   "source": [
    "* Pin code: 201308 (Uttar Pradesh) has the maximum number of counts for online shopping.\n",
    "* Female buyer has more number of count than male in the Dataset.\n",
    "* Buyer Age between 31 to 40 years is more followed by 21-30 years for online shopping.\n",
    "* Delhi city has a maximum number of buyers followed by greater Noida & Noida. Bulandshahr city has a minimum number of buyers for online shopping.\n",
    "* Tenure wise maximum buyers are preferred online shopping since 4+ years.\n",
    "* Maximum number of online buyers purchased less than 10 products in past one year.\n",
    "* Using mobile phone internet is more for online shopping.\n",
    "* Smart Phone has been used more for online shopping followed by laptop.\n",
    "* Smartphones having screen sizes other than 4.7, 5.5 & 5 inches had been used more times for online shopping.\n",
    "* Devices having a windows operating system has been used often more for online shopping followed by android.\n",
    "* Google Chrome browser is used maximum times to access the website as compared to other browsers.\n",
    "* Search engine is more useful for the potential online buyers, also after the 1st visit to the store, the search engine has been used more to locate the website.\n",
    "* Usually buyers explore the particular website more than 15 times before making a purchase decision.\n",
    "* Credit/Debit has been used more than other options for online purchases.\n",
    "* Maximum buyer chooses to add the product to the cart & leave without making payment because of a better alternative offer.\n",
    "* Content & all relevant information on the website is easy to read & understand, also easy to navigate for a maximum number of the online buyer.\n",
    "* Maximum number of people strongly agree that information on a similar product to the one highlighted is important for product comparison.\n",
    "* Maximum number of people strongly agree that complete information on the listed sellers and the product being offered is important for purchase decisions.\n",
    "* Most buyers strongly agree that the loading & processing speed of the website should be fast which makes the website user- friendly.\n",
    "* For online purchases, the payment method is a key factor to retain the customer, also buyers trust that online retail stores would fulfill their part of the transaction at the stipulated time.\n",
    "* More number of buyer strongly agree that customer service & customer privacy is very much important to retain the customer.\n",
    "* Online shopping provides monetary benefits and discounts on the product that customers would buy for & visit the website again to shop more as it is value for money spent.\n",
    "* Maximum number of people enjoys online shopping, which is more convenient & easy to use.\n",
    "* Most buyers strongly agree that the return & replacement policy is important for purchase decisions.\n",
    "* People strongly agreed that gaining access to loyalty programs is a benefit of online shopping.\n",
    "* Maximum number of buyers strongly agree that provided quality information on the website improves satisfaction & trust of the customer.\n",
    "* Offering a wide variety of products in several categories with correct information helps to retain the customer.\n",
    "* Frequent online shopping gives a sense of adventure.\n",
    "* Shopping on your preferred e-tailer enhances your social status is indifferent to the maximum number of buyers.\n",
    "* Maximum buyer feels that it is ok to shop from a favorite e-tailer.\n",
    "* Most people prefer to shop online from Amazon.in, Flipkart.com, Paytm.com, Myntra.com & Snapdeal.com as these are more user friendly.\n",
    "* According to the survey, the best visually appealing web page layout is Amazon.in & flipkart.com.\n",
    "* Wide variety of products & its offer are mostly available on Amazon.in & flipkart.com.\n",
    "* Complete, relevant description information of products are available in Amazon.in & flipkart.com.\n",
    "* Amazon is best in terms of Trustworthiness/reliability, quickness to complete purchase & fast loading speed on website & application.\n",
    "* Amazon & Flipkart.com has several payment options whereas Snapdeal has a limited mode of payment method.\n",
    "* Amazon comes in number 1 position in terms of delivery of products & security of customer information followed by flipkart.com whereas Paytm took longer time to deliver the products.\n",
    "* Amazon.in provides the best customer support followed by Flipkart.com, Myntra.com, & Snapdeal.\n",
    "* Flipkart.com takes less time to get logged in(promotion, sales period), however, Amazon.in takes a long time to logged in.\n",
    "* When it comes to displaying graphics & photos(promotion, sales period), Amazon.in & flipkart.com take a longer time to load.\n",
    "* Myntra delays to declare its sale price & offers, also took a long time to load the page followed by paytm.com.\n",
    "* With time Amazon update/changes its website/Application design as Amazon disrupts frequently when moving one page to another & still works efficiently as before.\n",
    "* Most recommended Indian online retailer by a friend is Amazon followed by Flipkart."
   ]
  },
  {
   "cell_type": "code",
   "execution_count": null,
   "id": "47df8207",
   "metadata": {},
   "outputs": [],
   "source": [
    "pandas_profiling.ProfileReport(df1)"
   ]
  },
  {
   "cell_type": "markdown",
   "id": "b10e96d0",
   "metadata": {},
   "source": [
    "**if you are checking this notebook, kindly run the code due to large size of file it is not uploading on github so i have cleared the cell data to reduce the size.**"
   ]
  },
  {
   "cell_type": "markdown",
   "id": "fba084b4",
   "metadata": {},
   "source": [
    "pandas-profiling is an open source Python module with which we can quickly do an exploratory data analysis with just a few lines of code. It generates interactive reports in web format that can be presented to any person, even if they don’t know programming. It also offers report generation for the dataset with lots of features and customizations for the report generated. In short, what pandas-profiling does is save us all the work of visualizing and understanding the distribution of each variable. It generates a report with all the information easily available."
   ]
  },
  {
   "cell_type": "code",
   "execution_count": null,
   "id": "8a65c8b4",
   "metadata": {},
   "outputs": [],
   "source": [
    "for col in df1:\n",
    "    if col == \"Gender\":\n",
    "        pass\n",
    "    elif col == \"Pin Code\":\n",
    "        pass\n",
    "    else:\n",
    "        plt.style.use('seaborn-white')\n",
    "        plt.figure(figsize=(10,8))\n",
    "        sns.countplot(x=col, data=df1, hue=\"Gender\")\n",
    "        plt.title(\"{} column with respect to Gender details\".format(col))\n",
    "        plt.tight_layout()\n",
    "        plt.xticks(rotation=90)\n",
    "        plt.ylabel(\"Number of rows\")\n",
    "        plt.show()"
   ]
  },
  {
   "cell_type": "markdown",
   "id": "ae7684ca",
   "metadata": {},
   "source": [
    "## **Observations:**"
   ]
  },
  {
   "cell_type": "markdown",
   "id": "d082970f",
   "metadata": {},
   "source": [
    "* Above 41-50 years and less than 20 years, female and male respondents count difference is not much.\n",
    "* From Bangalore and Greater Noida, many respondents are female.\n",
    "* From Noida and Delhi, many respondents are male.\n",
    "* Both men and women shopping from desktop count are almost same. However, more women shop from either smartphone or laptop.\n",
    "* Most of the women come back to shopping website by using search engine.\n",
    "* Many women prefer to use search engine or app, rather than direct URL. However, men prefer to use search engine and Url and app little less. So we can understand that women use app more than men.\n",
    "* Women spend more time than men during online shopping and the time is mostly more than 15 mins, followed by 11-15 mins.\n",
    "* Women too compare the products with other websites and is one of the reasons to leave the cart without shopping.\n",
    "* Women prefer more loyalpoints than men.\n",
    "* More women disagree that online shopping is a kind of adventure. So websites need to work towards giving real time experience as this can be a big marketing strategy.\n",
    "* Women dont feel that online shopping fulfills certain roles."
   ]
  },
  {
   "cell_type": "code",
   "execution_count": null,
   "id": "32556b22",
   "metadata": {},
   "outputs": [],
   "source": [
    "for col in df1:\n",
    "    if col == \"Age\":\n",
    "        pass\n",
    "    elif col == \"Pin Code\":\n",
    "        pass\n",
    "    else:\n",
    "        plt.style.use('seaborn-muted')\n",
    "        plt.figure(figsize=(10,8))\n",
    "        sns.countplot(x=col, data=df1, hue=\"Age\")\n",
    "        plt.title(\"{} column with respect to Age details\".format(col))\n",
    "        plt.tight_layout()\n",
    "        plt.xticks(rotation=90)\n",
    "        plt.ylabel(\"Number of rows\")\n",
    "        plt.show()"
   ]
  },
  {
   "cell_type": "markdown",
   "id": "5b191efc",
   "metadata": {},
   "source": [
    "### Observations:"
   ]
  },
  {
   "cell_type": "markdown",
   "id": "c0efc6fc",
   "metadata": {},
   "source": [
    "* From gender I can say male are less and female are more means female use to do more shopping.\n",
    "* From age 21-30 and 31-40 years of people use to do more shopping and peoples who are 50 years old and above they do very less shopping.\n",
    "* From Since How Long You are Shopping Online I can say peoples at the age of 4 years start online shopping.\n",
    "* From How many times you have made an online purchase in the past 1 year I can say less then 10 times has high count and and 42 times and above have least count means mostly people buy less then 10 mines a year\n",
    "* From How do you access the internet while shopping on-line we can see people used to buy using mobile internet more and very few use dialup.\n",
    "* From Which device do you use to access the online shopping I can say people use there smartphones more then laptops and very few uses tablet.\n",
    "* From What is the screen size of your mobile device I can say other have the highest count as 5.5 inch and least 5 inch size\n",
    "* From What is the operating system (OS) of your device I can say mostly people use window phones then android and then less people use ios for inline shopping.\n",
    "* From What browser do you run on your device to access the website I can say mostly all people use google crome and very less people use firefox.\n",
    "* From Which channel did you follow to arrive at your favorite online store for the first time People mostly use search engine to buy something.\n",
    "* From After first visit, how do you reach the online retail store I can say people used search engine or app for this\n",
    "* From How much time do you explore the e- retail store before making a purchase decision i can say mostly people use to take 15 min and very few people take 1 min only.\n",
    "* From What is your preferred payment Option i can say mostly people use credit/debit card then 2nd prefrence of people are cash on delivery then least they use E-wallet.\n",
    "* From How frequently do you abandon (selecting an items and leaving without making payment) your shopping cart i can say the highest count have sometimes and the least count have very frequently.\n",
    "* From reason to abandon purchase from shopping cart I can say better offer has the high count means people get some other best offer and it has least count of lack of trust and no prefered payment means people dont have trust and they dont find there best preffered method.\n",
    "* From The content on the website must be easy to read and understand people have voted more for strongly agree and agree they want while shopping they can easily read the content of site.\n",
    "* From Information on similar product to the one highlighted is important for product comparison I can say people have voted strongly agree and agree on this."
   ]
  },
  {
   "cell_type": "code",
   "execution_count": null,
   "id": "eda7cf82",
   "metadata": {},
   "outputs": [],
   "source": [
    "for col in df1:\n",
    "    if col == \"City\":\n",
    "        pass\n",
    "    elif col == \"Pin Code\":\n",
    "        pass\n",
    "    else:\n",
    "        plt.style.use('seaborn-colorblind')\n",
    "        plt.figure(figsize=(10,8))\n",
    "        sns.countplot(x=col, data=df1, hue=\"City\")\n",
    "        plt.title(\"{} column with respect to City details\".format(col))\n",
    "        plt.tight_layout()\n",
    "        plt.xticks(rotation=90)\n",
    "        plt.ylabel(\"Number of rows\")\n",
    "        plt.show()"
   ]
  },
  {
   "cell_type": "markdown",
   "id": "f315f27e",
   "metadata": {},
   "source": [
    "**Observations:**\n",
    "    * There are more women respondents than men. It could be that data collection is mainly focused on women.\n",
    "* Amongst the respondents, the major class targetted is between 21-40 years, followed by 41-50 and less than 20 years. We can understand that the correspondents are mostly from working class.\n",
    "* The respondents are majorly residing in cities like Delhi, Greater Noida, Noida and Bangalore.\n",
    "* Majority are shopping online for more than 4 years. There are considerable people who are shopping online since less than one year and also it shows that many new customers are being added every year.\n",
    "* We can observe that many have shopped less than 10 times in the past year.\n",
    "* Many of them use mobile to shop online, followed by laptop, desktop and tablet.\n",
    "* Windows constitute the major OS of the customer device, followed by Android and Mac.\n",
    "* Google Chrome is majorly used to access the shopping website.\n",
    "* People are becoming customers of their favorite stores by using the search engine. Content marketing or display advertisements are not that impactful when coming to online marketing. So companies should spend more on advertising on search engines.\n",
    "* For repeated visits, people use search engine first, followed by app and direct URL. We can see that difference between app and search engine is small.\n",
    "* Majority of the people spend more than 15 minutes before making a purchase, followed by 6-10 minutes.\n",
    "* The major payment method used by all is credit/debit cards, followed by COD and e-wallets.\n",
    "* People have mentioned that sometimes they would leave the cart without purchasing and the major reason they have mentioned is that they are finding some better alternative offer. It means that people are comparing from many online websites before making any purchase.\n",
    "* Customers strongly agree that content of website must be easy to read and understandable.\n",
    "* Majority of customers want information of similar products to make purchase.\n",
    "* Majority of the customers want complete information on listed sellers and their products being offered.\n",
    "* Customers want all relevant information on the listed products and very less customers disagree to that.\n",
    "* The customers wanted the websites to be easily navigated.\n",
    "* Majority of the customers wanted high loading and processing speed, user friendly interface of website, convenient payment method, high trust on website, empathy towards customers, guarantee privacy of customers, responsiveness-availability of several communication channels, etc.\n",
    "* People feel that online shopping provides monitory benefits and discounts.\n",
    "* Customers also feel that shopping online is convenient and flexible.\n",
    "* Return policy is important for deciding the product purchase to many customers.\n",
    "* Many customers find shopping through online helps them financially because of cost and discount factors.\n",
    "* When it comes to certain factors like gratification, social status enhancement because of shopping, or whether shopping online gives a thrill or adventure, customers are more indifferent to these. So, there is an ample scope in giving more enhanced experienced to customers in this regard."
   ]
  },
  {
   "cell_type": "markdown",
   "id": "4be8ef69",
   "metadata": {},
   "source": [
    "## Encoding the categorical object datatype columns"
   ]
  },
  {
   "cell_type": "code",
   "execution_count": null,
   "id": "b8213836",
   "metadata": {},
   "outputs": [],
   "source": [
    "# Ordinal Encoding\n",
    "\n",
    "oe = OrdinalEncoder()\n",
    "\n",
    "def ordinal_encode(df, column):\n",
    "    df[column] = oe.fit_transform(df[column])\n",
    "    return df\n",
    "\n",
    "oe_col = df1.columns\n",
    "df=ordinal_encode(df1, oe_col)\n",
    "df.head()"
   ]
  },
  {
   "cell_type": "markdown",
   "id": "7e2f7093",
   "metadata": {},
   "source": [
    "*I have made use of OrdinalEncoder to convert categorical object datatype columns into numeric values. Since we do not have any label present in our dataset there was no point in using label encoder. Also our dataset has 71 columns so using One Hot Encoding would have only increased the number of columns.*"
   ]
  },
  {
   "cell_type": "code",
   "execution_count": null,
   "id": "18511ecf",
   "metadata": {},
   "outputs": [],
   "source": [
    "plt.style.use('seaborn-bright')\n",
    "\n",
    "df.hist(figsize=(40,50))\n",
    "plt.show()"
   ]
  },
  {
   "cell_type": "markdown",
   "id": "0f01aeff",
   "metadata": {},
   "source": [
    "### **Findings:**\n",
    "\n",
    "* Major Consumers of online shopping are females.\n",
    "* From Ages 31 - 40 years mostly use online mode of shopping.\n",
    "* Delhi has maximum number of consumers for online shopping.\n",
    "* Amazon and Flipkart are the most reliable Website/Application for online shopping on the basis of customer satisfaction.\n",
    "* Paytm, Myntra and Snapdeal needs more development to reach further in terms of customer satisfaction.\n",
    "* Finally in Ease of Application, Highly used, Overall customer satisfaction and Highly recommended platform is Amazon for online Shopping."
   ]
  },
  {
   "cell_type": "markdown",
   "id": "075d8766",
   "metadata": {},
   "source": [
    "## Correlation using a Heatmap"
   ]
  },
  {
   "cell_type": "markdown",
   "id": "dc285487",
   "metadata": {},
   "source": [
    "* Positive correlation - A correlation of +1 indicates a perfect positive correlation, meaning that both variables move in the same direction together.\n",
    "* Negative correlation - A correlation of –1 indicates a perfect negative correlation, meaning that as one variable goes up, the other goes down."
   ]
  },
  {
   "cell_type": "code",
   "execution_count": null,
   "id": "931105ea",
   "metadata": {},
   "outputs": [],
   "source": [
    "upper_triangle = np.triu(df1.corr())\n",
    "plt.figure(figsize=(25,25))\n",
    "sns.heatmap(df1.corr(), vmin=-1, vmax=1, annot=True, square=True, fmt='0.3f', \n",
    "            annot_kws={'size':10}, cmap=\"cubehelix\", mask=upper_triangle)\n",
    "plt.xticks(fontsize=14)\n",
    "plt.yticks(fontsize=14)\n",
    "plt.show()"
   ]
  },
  {
   "cell_type": "markdown",
   "id": "5c7eb575",
   "metadata": {},
   "source": [
    "In the above heatmap due to lot of columns we are not able to see the correlation details however we can observe the color coding details and get a hint that there is no multi collinearity concern between the column values"
   ]
  },
  {
   "cell_type": "markdown",
   "id": "b09dcfd9",
   "metadata": {},
   "source": [
    "## Correlation Bar Plot comparing Gender column with the remaining columns"
   ]
  },
  {
   "cell_type": "code",
   "execution_count": null,
   "id": "83ec1382",
   "metadata": {},
   "outputs": [],
   "source": [
    "plt.style.use('seaborn-pastel')\n",
    "\n",
    "column_names = df1.columns\n",
    "for col in df1[column_names]:\n",
    "    df_corr = df1.corr()\n",
    "    plt.figure(figsize=(16,6))\n",
    "    df_corr[col].sort_values(ascending=False).drop(col).plot.bar()\n",
    "    plt.title(\"Correlation of {} Column vs Remaining Columns\\n\".format(col), fontsize=16)\n",
    "    plt.xlabel(\"\\nColumn Names\", fontsize=14)\n",
    "    plt.ylabel(\"Correlation Values\", fontsize=12)\n",
    "    plt.show()"
   ]
  },
  {
   "cell_type": "markdown",
   "id": "90c7d7d4",
   "metadata": {},
   "source": [
    "Since the heatmap was not clear in terms of it's values I have generated this barplot for each column vs remaining column showing the positive and negative correlation data."
   ]
  },
  {
   "cell_type": "markdown",
   "id": "60333857",
   "metadata": {},
   "source": [
    "## Inference:"
   ]
  },
  {
   "cell_type": "markdown",
   "id": "2debfa9d",
   "metadata": {},
   "source": [
    "### 1. Amazon.com"
   ]
  },
  {
   "cell_type": "markdown",
   "id": "47d8cd27",
   "metadata": {},
   "source": [
    "### To be improved:"
   ]
  },
  {
   "cell_type": "markdown",
   "id": "790549d2",
   "metadata": {},
   "source": [
    "* During promotions, try to give a disturbance free shopping experience to customers.\n",
    "* Give more payment options to customers.\n",
    "* Try to give price early during promotion.\n",
    "* Reduce the delivery time of the products.\n",
    "\n",
    "**Positive feedback summary:**\n",
    "* Convenient to use and also a good website for shopping.\n",
    "* Fast delivery of products.\n",
    "* Availability of complete information of the products.\n",
    "* Presence of online assistance through multi-channels.\n",
    "* Reliable website or app, perceived trustworthiness.\n",
    "\n",
    "### 2. Flipkart.com\n",
    "\n",
    "**To be improved:**\n",
    "* During promotions, try to give a disturbance free shopping experience to customers.\n",
    "* Give more payment options to customers.\n",
    "* Try to give the price early during promotion.\n",
    "* Reduce the delivery time of the products.\n",
    "* Flipkart and Amazon almost share the same feedbacks with varying percentages as the only difference.\n"
   ]
  },
  {
   "cell_type": "markdown",
   "id": "317f610a",
   "metadata": {},
   "source": [
    "**Positive feedback summary:**\n",
    "* Convenient to use and also a good website for shopping.\n",
    "* Fast delivery of products.\n",
    "* Availability of complete information of the products.\n",
    "* Presence of online assistance through multi-channels.\n",
    "* Reliable website or app, perceived trustworthiness.\n",
    "* Wild variety of products to offer.\n",
    "\n",
    "### 3. Myntra.com\n",
    "\n",
    "**To be improved:**\n",
    "* During promotions, try to give a disturbance free shopping experience to customers.\n",
    "* Try to give the price early during promotions.\n",
    "* Reduce the delivery time of the products during promotions.\n",
    "\n",
    "**Positive feedback summary:**\n",
    "* Convenient to use and also a good website.\n",
    "* Availability of several payment options.\n",
    "* Faster products delivery.\n",
    "* Complete information of products available.\n",
    "* Reliable website or app, perceived trustworthiness.\n",
    "* Wild variety of product to offer"
   ]
  },
  {
   "cell_type": "markdown",
   "id": "d9e0474b",
   "metadata": {},
   "source": [
    "### 4. Paytm.com\n",
    "\n",
    "**To be improved:***\n",
    "* Reduce the delivery time of the products during promotions.\n",
    "* Try to give the price early during promotion.\n",
    "* During promotions, try to give a disturbance free shopping experience to customers.\n",
    "* Late declaration of price and discounts.\n",
    "* Frequent disturbance is occurring while moving from one page to another.\n",
    "\n",
    "**Positive feedback summary**\n",
    "* Convenient to use and a good website.\n",
    "* Quickness to complete a purchase.\n",
    "* About 64% of the customers feel that either web or app is reliable.\n",
    "* Around 20% of the customers believe that paytm has a wild variety of products on offer.\n",
    "\n",
    "### 5. Snapdeal.com\n",
    "**To be improved:**\n",
    "* Reduce the delivery time of the products during promotions.\n",
    "* Try to give the price early during promotion.\n",
    "* During promotions, try to give a disturbance free shopping experience to customers.\n",
    "* Late declaration of price and discounts.\n",
    "* No one has expressed to recommend snapdeal to a contact as it has the most negative feedbacks among all other websites.\n",
    "\n",
    "**Positive feedback summary:**\n",
    "* Convenient to use.\n",
    "* 54% of the customers are happy about the availability of financial information security."
   ]
  },
  {
   "cell_type": "markdown",
   "id": "509e27c6",
   "metadata": {},
   "source": [
    "# Conclusion:"
   ]
  },
  {
   "cell_type": "markdown",
   "id": "36be1713",
   "metadata": {},
   "source": [
    "* Based on overall observations, the first 47 features provide insights into how e-tailer is helpful & growing based on customer inputs. The data explained how the online platform has been used more often in which CITY,PIN CODE, AGE GROUP, etc. It also showed that in some factors there is less importance given to contribute to the success of an e-commerce store, so based on that we could remove those factors & keep all the important factors, also we could improve on some factors that influence the online customers repeat purchase intention.\n",
    "\n",
    "* Apart from the first 47 features, the rest of the features showed which online platform has been used more based on the success factors. Based on the case study for customer activation & retention, Amazon is most reliable and has been fulfilled the customer requirements. After Amazon, data showed Flipkart has been used more for online shopping.\n",
    "\n",
    "* The case study from Indian e-commerce customers showed Amazon and Flipkart has been used mostly for Online Shopping and most recommended by Friends. So, based on the research factors, Amazon & Flipkart are the e-commerce platform, which are having the combination of both utilitarian and hedonistic values to keep the repeat purchase intention (loyalty) positively."
   ]
  },
  {
   "cell_type": "code",
   "execution_count": null,
   "id": "42e067cd",
   "metadata": {},
   "outputs": [],
   "source": []
  },
  {
   "cell_type": "code",
   "execution_count": null,
   "id": "0b7e0da8",
   "metadata": {},
   "outputs": [],
   "source": []
  },
  {
   "cell_type": "code",
   "execution_count": null,
   "id": "f2dbd46c",
   "metadata": {},
   "outputs": [],
   "source": []
  },
  {
   "cell_type": "code",
   "execution_count": null,
   "id": "78e4cf50",
   "metadata": {},
   "outputs": [],
   "source": []
  },
  {
   "cell_type": "code",
   "execution_count": null,
   "id": "856abf6f",
   "metadata": {},
   "outputs": [],
   "source": []
  }
 ],
 "metadata": {
  "kernelspec": {
   "display_name": "Python 3 (ipykernel)",
   "language": "python",
   "name": "python3"
  },
  "language_info": {
   "codemirror_mode": {
    "name": "ipython",
    "version": 3
   },
   "file_extension": ".py",
   "mimetype": "text/x-python",
   "name": "python",
   "nbconvert_exporter": "python",
   "pygments_lexer": "ipython3",
   "version": "3.9.7"
  }
 },
 "nbformat": 4,
 "nbformat_minor": 5
}
